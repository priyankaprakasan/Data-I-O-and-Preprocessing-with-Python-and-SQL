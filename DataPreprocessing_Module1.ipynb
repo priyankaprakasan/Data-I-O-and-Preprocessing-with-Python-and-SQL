{
  "nbformat": 4,
  "nbformat_minor": 0,
  "metadata": {
    "colab": {
      "provenance": [],
      "authorship_tag": "ABX9TyOeVebDGvCHK7fmQDQ3RRxO",
      "include_colab_link": true
    },
    "kernelspec": {
      "name": "python3",
      "display_name": "Python 3"
    },
    "language_info": {
      "name": "python"
    }
  },
  "cells": [
    {
      "cell_type": "markdown",
      "metadata": {
        "id": "view-in-github",
        "colab_type": "text"
      },
      "source": [
        "<a href=\"https://colab.research.google.com/github/priyankaprakasan/Data-I-O-and-Preprocessing-with-Python-and-SQL/blob/main/DataPreprocessing_Module1.ipynb\" target=\"_parent\"><img src=\"https://colab.research.google.com/assets/colab-badge.svg\" alt=\"Open In Colab\"/></a>"
      ]
    },
    {
      "cell_type": "code",
      "execution_count": null,
      "metadata": {
        "id": "HAiecYGfDd9r"
      },
      "outputs": [],
      "source": [
        "import pandas as pd\n"
      ]
    },
    {
      "cell_type": "code",
      "source": [
        "url = \"https://dlai-lc-dag.s3.us-east-2.amazonaws.com/countries_and_pet_population.html\""
      ],
      "metadata": {
        "id": "yoWulVtLDqWP"
      },
      "execution_count": null,
      "outputs": []
    },
    {
      "cell_type": "code",
      "source": [
        "pet_pop=pd.read_html(url)"
      ],
      "metadata": {
        "id": "Tm5dJiymDv-1"
      },
      "execution_count": null,
      "outputs": []
    },
    {
      "cell_type": "code",
      "source": [
        "type(pet_pop)"
      ],
      "metadata": {
        "colab": {
          "base_uri": "https://localhost:8080/"
        },
        "id": "sDfMxelxD6Ik",
        "outputId": "9d84d832-f62e-4128-d7e6-03cb55bf2892"
      },
      "execution_count": null,
      "outputs": [
        {
          "output_type": "execute_result",
          "data": {
            "text/plain": [
              "list"
            ]
          },
          "metadata": {},
          "execution_count": 5
        }
      ]
    },
    {
      "cell_type": "code",
      "source": [
        "len(pet_pop)"
      ],
      "metadata": {
        "colab": {
          "base_uri": "https://localhost:8080/"
        },
        "id": "544O3RWqD8YY",
        "outputId": "c586241c-c2ac-4b76-beb1-a872df85db2c"
      },
      "execution_count": null,
      "outputs": [
        {
          "output_type": "execute_result",
          "data": {
            "text/plain": [
              "1"
            ]
          },
          "metadata": {},
          "execution_count": 7
        }
      ]
    },
    {
      "cell_type": "code",
      "source": [
        "pet_pop[0].info()"
      ],
      "metadata": {
        "colab": {
          "base_uri": "https://localhost:8080/"
        },
        "id": "B1N40hl8EC_T",
        "outputId": "d15858c9-4988-430b-e0b8-65137b7108b5"
      },
      "execution_count": null,
      "outputs": [
        {
          "output_type": "stream",
          "name": "stdout",
          "text": [
            "<class 'pandas.core.frame.DataFrame'>\n",
            "RangeIndex: 238 entries, 0 to 237\n",
            "Data columns (total 12 columns):\n",
            " #   Column                   Non-Null Count  Dtype  \n",
            "---  ------                   --------------  -----  \n",
            " 0   Country                  238 non-null    object \n",
            " 1   Population 2022          238 non-null    int64  \n",
            " 2   Population 2023          238 non-null    int64  \n",
            " 3   Change %                 238 non-null    object \n",
            " 4   Region                   238 non-null    object \n",
            " 5   Official Language        191 non-null    object \n",
            " 6   Dog Population           38 non-null     float64\n",
            " 7   Cat Population           35 non-null     float64\n",
            " 8   Bird Population          32 non-null     float64\n",
            " 9   Aquaria Population       29 non-null     float64\n",
            " 10  Small Mammal Population  29 non-null     float64\n",
            " 11  Terraria Population      27 non-null     float64\n",
            "dtypes: float64(6), int64(2), object(4)\n",
            "memory usage: 22.4+ KB\n"
          ]
        }
      ]
    },
    {
      "cell_type": "code",
      "source": [
        "pet_pop_df=pet_pop[0]"
      ],
      "metadata": {
        "id": "yEsLTd3bEPaY"
      },
      "execution_count": null,
      "outputs": []
    },
    {
      "cell_type": "code",
      "source": [
        "pet_pop_df.head()"
      ],
      "metadata": {
        "colab": {
          "base_uri": "https://localhost:8080/",
          "height": 275
        },
        "id": "80DM7GBMEajo",
        "outputId": "7c4abe84-4f48-4b11-8acc-e2fb9eff4131"
      },
      "execution_count": null,
      "outputs": [
        {
          "output_type": "execute_result",
          "data": {
            "text/plain": [
              "         Country  Population 2022  Population 2023 Change %            Region  \\\n",
              "0          World       8021407192       8091734930   +0.88%      WRLD - World   \n",
              "1          India       1425423212       1438069596   +0.89%      ASIA - South   \n",
              "2      China [a]       1425179569       1422584933   -0.18%       ASIA - East   \n",
              "3  United States        341534046        343477335   +0.57%      AMER - North   \n",
              "4      Indonesia        278830529        281190067   +0.85%  ASIA - Southeast   \n",
              "\n",
              "  Official Language  Dog Population  Cat Population  Bird Population  \\\n",
              "0               NaN             NaN             NaN              NaN   \n",
              "1    Hindi, English      10200000.0             NaN              NaN   \n",
              "2  Standard Chinese      27400000.0      53100000.0              NaN   \n",
              "3           English      69929000.0      74059000.0        8300000.0   \n",
              "4        Indonesian             NaN             NaN              NaN   \n",
              "\n",
              "   Aquaria Population  Small Mammal Population  Terraria Population  \n",
              "0                 NaN                      NaN                  NaN  \n",
              "1                 NaN                      NaN                  NaN  \n",
              "2                 NaN                      NaN                  NaN  \n",
              "3                 NaN                      NaN                  NaN  \n",
              "4                 NaN                      NaN                  NaN  "
            ],
            "text/html": [
              "\n",
              "  <div id=\"df-e24b4483-8a02-424c-abb1-d2c2ee32769e\" class=\"colab-df-container\">\n",
              "    <div>\n",
              "<style scoped>\n",
              "    .dataframe tbody tr th:only-of-type {\n",
              "        vertical-align: middle;\n",
              "    }\n",
              "\n",
              "    .dataframe tbody tr th {\n",
              "        vertical-align: top;\n",
              "    }\n",
              "\n",
              "    .dataframe thead th {\n",
              "        text-align: right;\n",
              "    }\n",
              "</style>\n",
              "<table border=\"1\" class=\"dataframe\">\n",
              "  <thead>\n",
              "    <tr style=\"text-align: right;\">\n",
              "      <th></th>\n",
              "      <th>Country</th>\n",
              "      <th>Population 2022</th>\n",
              "      <th>Population 2023</th>\n",
              "      <th>Change %</th>\n",
              "      <th>Region</th>\n",
              "      <th>Official Language</th>\n",
              "      <th>Dog Population</th>\n",
              "      <th>Cat Population</th>\n",
              "      <th>Bird Population</th>\n",
              "      <th>Aquaria Population</th>\n",
              "      <th>Small Mammal Population</th>\n",
              "      <th>Terraria Population</th>\n",
              "    </tr>\n",
              "  </thead>\n",
              "  <tbody>\n",
              "    <tr>\n",
              "      <th>0</th>\n",
              "      <td>World</td>\n",
              "      <td>8021407192</td>\n",
              "      <td>8091734930</td>\n",
              "      <td>+0.88%</td>\n",
              "      <td>WRLD - World</td>\n",
              "      <td>NaN</td>\n",
              "      <td>NaN</td>\n",
              "      <td>NaN</td>\n",
              "      <td>NaN</td>\n",
              "      <td>NaN</td>\n",
              "      <td>NaN</td>\n",
              "      <td>NaN</td>\n",
              "    </tr>\n",
              "    <tr>\n",
              "      <th>1</th>\n",
              "      <td>India</td>\n",
              "      <td>1425423212</td>\n",
              "      <td>1438069596</td>\n",
              "      <td>+0.89%</td>\n",
              "      <td>ASIA - South</td>\n",
              "      <td>Hindi, English</td>\n",
              "      <td>10200000.0</td>\n",
              "      <td>NaN</td>\n",
              "      <td>NaN</td>\n",
              "      <td>NaN</td>\n",
              "      <td>NaN</td>\n",
              "      <td>NaN</td>\n",
              "    </tr>\n",
              "    <tr>\n",
              "      <th>2</th>\n",
              "      <td>China [a]</td>\n",
              "      <td>1425179569</td>\n",
              "      <td>1422584933</td>\n",
              "      <td>-0.18%</td>\n",
              "      <td>ASIA - East</td>\n",
              "      <td>Standard Chinese</td>\n",
              "      <td>27400000.0</td>\n",
              "      <td>53100000.0</td>\n",
              "      <td>NaN</td>\n",
              "      <td>NaN</td>\n",
              "      <td>NaN</td>\n",
              "      <td>NaN</td>\n",
              "    </tr>\n",
              "    <tr>\n",
              "      <th>3</th>\n",
              "      <td>United States</td>\n",
              "      <td>341534046</td>\n",
              "      <td>343477335</td>\n",
              "      <td>+0.57%</td>\n",
              "      <td>AMER - North</td>\n",
              "      <td>English</td>\n",
              "      <td>69929000.0</td>\n",
              "      <td>74059000.0</td>\n",
              "      <td>8300000.0</td>\n",
              "      <td>NaN</td>\n",
              "      <td>NaN</td>\n",
              "      <td>NaN</td>\n",
              "    </tr>\n",
              "    <tr>\n",
              "      <th>4</th>\n",
              "      <td>Indonesia</td>\n",
              "      <td>278830529</td>\n",
              "      <td>281190067</td>\n",
              "      <td>+0.85%</td>\n",
              "      <td>ASIA - Southeast</td>\n",
              "      <td>Indonesian</td>\n",
              "      <td>NaN</td>\n",
              "      <td>NaN</td>\n",
              "      <td>NaN</td>\n",
              "      <td>NaN</td>\n",
              "      <td>NaN</td>\n",
              "      <td>NaN</td>\n",
              "    </tr>\n",
              "  </tbody>\n",
              "</table>\n",
              "</div>\n",
              "    <div class=\"colab-df-buttons\">\n",
              "\n",
              "  <div class=\"colab-df-container\">\n",
              "    <button class=\"colab-df-convert\" onclick=\"convertToInteractive('df-e24b4483-8a02-424c-abb1-d2c2ee32769e')\"\n",
              "            title=\"Convert this dataframe to an interactive table.\"\n",
              "            style=\"display:none;\">\n",
              "\n",
              "  <svg xmlns=\"http://www.w3.org/2000/svg\" height=\"24px\" viewBox=\"0 -960 960 960\">\n",
              "    <path d=\"M120-120v-720h720v720H120Zm60-500h600v-160H180v160Zm220 220h160v-160H400v160Zm0 220h160v-160H400v160ZM180-400h160v-160H180v160Zm440 0h160v-160H620v160ZM180-180h160v-160H180v160Zm440 0h160v-160H620v160Z\"/>\n",
              "  </svg>\n",
              "    </button>\n",
              "\n",
              "  <style>\n",
              "    .colab-df-container {\n",
              "      display:flex;\n",
              "      gap: 12px;\n",
              "    }\n",
              "\n",
              "    .colab-df-convert {\n",
              "      background-color: #E8F0FE;\n",
              "      border: none;\n",
              "      border-radius: 50%;\n",
              "      cursor: pointer;\n",
              "      display: none;\n",
              "      fill: #1967D2;\n",
              "      height: 32px;\n",
              "      padding: 0 0 0 0;\n",
              "      width: 32px;\n",
              "    }\n",
              "\n",
              "    .colab-df-convert:hover {\n",
              "      background-color: #E2EBFA;\n",
              "      box-shadow: 0px 1px 2px rgba(60, 64, 67, 0.3), 0px 1px 3px 1px rgba(60, 64, 67, 0.15);\n",
              "      fill: #174EA6;\n",
              "    }\n",
              "\n",
              "    .colab-df-buttons div {\n",
              "      margin-bottom: 4px;\n",
              "    }\n",
              "\n",
              "    [theme=dark] .colab-df-convert {\n",
              "      background-color: #3B4455;\n",
              "      fill: #D2E3FC;\n",
              "    }\n",
              "\n",
              "    [theme=dark] .colab-df-convert:hover {\n",
              "      background-color: #434B5C;\n",
              "      box-shadow: 0px 1px 3px 1px rgba(0, 0, 0, 0.15);\n",
              "      filter: drop-shadow(0px 1px 2px rgba(0, 0, 0, 0.3));\n",
              "      fill: #FFFFFF;\n",
              "    }\n",
              "  </style>\n",
              "\n",
              "    <script>\n",
              "      const buttonEl =\n",
              "        document.querySelector('#df-e24b4483-8a02-424c-abb1-d2c2ee32769e button.colab-df-convert');\n",
              "      buttonEl.style.display =\n",
              "        google.colab.kernel.accessAllowed ? 'block' : 'none';\n",
              "\n",
              "      async function convertToInteractive(key) {\n",
              "        const element = document.querySelector('#df-e24b4483-8a02-424c-abb1-d2c2ee32769e');\n",
              "        const dataTable =\n",
              "          await google.colab.kernel.invokeFunction('convertToInteractive',\n",
              "                                                    [key], {});\n",
              "        if (!dataTable) return;\n",
              "\n",
              "        const docLinkHtml = 'Like what you see? Visit the ' +\n",
              "          '<a target=\"_blank\" href=https://colab.research.google.com/notebooks/data_table.ipynb>data table notebook</a>'\n",
              "          + ' to learn more about interactive tables.';\n",
              "        element.innerHTML = '';\n",
              "        dataTable['output_type'] = 'display_data';\n",
              "        await google.colab.output.renderOutput(dataTable, element);\n",
              "        const docLink = document.createElement('div');\n",
              "        docLink.innerHTML = docLinkHtml;\n",
              "        element.appendChild(docLink);\n",
              "      }\n",
              "    </script>\n",
              "  </div>\n",
              "\n",
              "\n",
              "    <div id=\"df-78755b16-536a-4078-9cc8-b91ae98183e1\">\n",
              "      <button class=\"colab-df-quickchart\" onclick=\"quickchart('df-78755b16-536a-4078-9cc8-b91ae98183e1')\"\n",
              "                title=\"Suggest charts\"\n",
              "                style=\"display:none;\">\n",
              "\n",
              "<svg xmlns=\"http://www.w3.org/2000/svg\" height=\"24px\"viewBox=\"0 0 24 24\"\n",
              "     width=\"24px\">\n",
              "    <g>\n",
              "        <path d=\"M19 3H5c-1.1 0-2 .9-2 2v14c0 1.1.9 2 2 2h14c1.1 0 2-.9 2-2V5c0-1.1-.9-2-2-2zM9 17H7v-7h2v7zm4 0h-2V7h2v10zm4 0h-2v-4h2v4z\"/>\n",
              "    </g>\n",
              "</svg>\n",
              "      </button>\n",
              "\n",
              "<style>\n",
              "  .colab-df-quickchart {\n",
              "      --bg-color: #E8F0FE;\n",
              "      --fill-color: #1967D2;\n",
              "      --hover-bg-color: #E2EBFA;\n",
              "      --hover-fill-color: #174EA6;\n",
              "      --disabled-fill-color: #AAA;\n",
              "      --disabled-bg-color: #DDD;\n",
              "  }\n",
              "\n",
              "  [theme=dark] .colab-df-quickchart {\n",
              "      --bg-color: #3B4455;\n",
              "      --fill-color: #D2E3FC;\n",
              "      --hover-bg-color: #434B5C;\n",
              "      --hover-fill-color: #FFFFFF;\n",
              "      --disabled-bg-color: #3B4455;\n",
              "      --disabled-fill-color: #666;\n",
              "  }\n",
              "\n",
              "  .colab-df-quickchart {\n",
              "    background-color: var(--bg-color);\n",
              "    border: none;\n",
              "    border-radius: 50%;\n",
              "    cursor: pointer;\n",
              "    display: none;\n",
              "    fill: var(--fill-color);\n",
              "    height: 32px;\n",
              "    padding: 0;\n",
              "    width: 32px;\n",
              "  }\n",
              "\n",
              "  .colab-df-quickchart:hover {\n",
              "    background-color: var(--hover-bg-color);\n",
              "    box-shadow: 0 1px 2px rgba(60, 64, 67, 0.3), 0 1px 3px 1px rgba(60, 64, 67, 0.15);\n",
              "    fill: var(--button-hover-fill-color);\n",
              "  }\n",
              "\n",
              "  .colab-df-quickchart-complete:disabled,\n",
              "  .colab-df-quickchart-complete:disabled:hover {\n",
              "    background-color: var(--disabled-bg-color);\n",
              "    fill: var(--disabled-fill-color);\n",
              "    box-shadow: none;\n",
              "  }\n",
              "\n",
              "  .colab-df-spinner {\n",
              "    border: 2px solid var(--fill-color);\n",
              "    border-color: transparent;\n",
              "    border-bottom-color: var(--fill-color);\n",
              "    animation:\n",
              "      spin 1s steps(1) infinite;\n",
              "  }\n",
              "\n",
              "  @keyframes spin {\n",
              "    0% {\n",
              "      border-color: transparent;\n",
              "      border-bottom-color: var(--fill-color);\n",
              "      border-left-color: var(--fill-color);\n",
              "    }\n",
              "    20% {\n",
              "      border-color: transparent;\n",
              "      border-left-color: var(--fill-color);\n",
              "      border-top-color: var(--fill-color);\n",
              "    }\n",
              "    30% {\n",
              "      border-color: transparent;\n",
              "      border-left-color: var(--fill-color);\n",
              "      border-top-color: var(--fill-color);\n",
              "      border-right-color: var(--fill-color);\n",
              "    }\n",
              "    40% {\n",
              "      border-color: transparent;\n",
              "      border-right-color: var(--fill-color);\n",
              "      border-top-color: var(--fill-color);\n",
              "    }\n",
              "    60% {\n",
              "      border-color: transparent;\n",
              "      border-right-color: var(--fill-color);\n",
              "    }\n",
              "    80% {\n",
              "      border-color: transparent;\n",
              "      border-right-color: var(--fill-color);\n",
              "      border-bottom-color: var(--fill-color);\n",
              "    }\n",
              "    90% {\n",
              "      border-color: transparent;\n",
              "      border-bottom-color: var(--fill-color);\n",
              "    }\n",
              "  }\n",
              "</style>\n",
              "\n",
              "      <script>\n",
              "        async function quickchart(key) {\n",
              "          const quickchartButtonEl =\n",
              "            document.querySelector('#' + key + ' button');\n",
              "          quickchartButtonEl.disabled = true;  // To prevent multiple clicks.\n",
              "          quickchartButtonEl.classList.add('colab-df-spinner');\n",
              "          try {\n",
              "            const charts = await google.colab.kernel.invokeFunction(\n",
              "                'suggestCharts', [key], {});\n",
              "          } catch (error) {\n",
              "            console.error('Error during call to suggestCharts:', error);\n",
              "          }\n",
              "          quickchartButtonEl.classList.remove('colab-df-spinner');\n",
              "          quickchartButtonEl.classList.add('colab-df-quickchart-complete');\n",
              "        }\n",
              "        (() => {\n",
              "          let quickchartButtonEl =\n",
              "            document.querySelector('#df-78755b16-536a-4078-9cc8-b91ae98183e1 button');\n",
              "          quickchartButtonEl.style.display =\n",
              "            google.colab.kernel.accessAllowed ? 'block' : 'none';\n",
              "        })();\n",
              "      </script>\n",
              "    </div>\n",
              "\n",
              "    </div>\n",
              "  </div>\n"
            ],
            "application/vnd.google.colaboratory.intrinsic+json": {
              "type": "dataframe",
              "variable_name": "pet_pop_df",
              "summary": "{\n  \"name\": \"pet_pop_df\",\n  \"rows\": 238,\n  \"fields\": [\n    {\n      \"column\": \"Country\",\n      \"properties\": {\n        \"dtype\": \"string\",\n        \"num_unique_values\": 238,\n        \"samples\": [\n          \"Singapore\",\n          \"DR Congo\",\n          \"Saint Kitts and Nevis\"\n        ],\n        \"semantic_type\": \"\",\n        \"description\": \"\"\n      }\n    },\n    {\n      \"column\": \"Population 2022\",\n      \"properties\": {\n        \"dtype\": \"number\",\n        \"std\": 535349530,\n        \"min\": 505,\n        \"max\": 8021407192,\n        \"num_unique_values\": 238,\n        \"samples\": [\n          5649885,\n          102396968,\n          46709\n        ],\n        \"semantic_type\": \"\",\n        \"description\": \"\"\n      }\n    },\n    {\n      \"column\": \"Population 2023\",\n      \"properties\": {\n        \"dtype\": \"number\",\n        \"std\": 539883896,\n        \"min\": 496,\n        \"max\": 8091734930,\n        \"num_unique_values\": 238,\n        \"samples\": [\n          5789090,\n          105789731,\n          46758\n        ],\n        \"semantic_type\": \"\",\n        \"description\": \"\"\n      }\n    },\n    {\n      \"column\": \"Change %\",\n      \"properties\": {\n        \"dtype\": \"string\",\n        \"num_unique_values\": 190,\n        \"samples\": [\n          \"-1.05%\",\n          \"+0.63%\",\n          \"+0.33%\"\n        ],\n        \"semantic_type\": \"\",\n        \"description\": \"\"\n      }\n    },\n    {\n      \"column\": \"Region\",\n      \"properties\": {\n        \"dtype\": \"category\",\n        \"num_unique_values\": 23,\n        \"samples\": [\n          \"AFRC - South\",\n          \"AFRC - East\",\n          \"WRLD - World\"\n        ],\n        \"semantic_type\": \"\",\n        \"description\": \"\"\n      }\n    },\n    {\n      \"column\": \"Official Language\",\n      \"properties\": {\n        \"dtype\": \"category\",\n        \"num_unique_values\": 115,\n        \"samples\": [\n          \"Spanish, Uruguayan Sign Language\",\n          \"Urdu, English\",\n          \"Moor\\u00e9, Bissa, Dyula, Fula\"\n        ],\n        \"semantic_type\": \"\",\n        \"description\": \"\"\n      }\n    },\n    {\n      \"column\": \"Dog Population\",\n      \"properties\": {\n        \"dtype\": \"number\",\n        \"std\": 12033176.22532394,\n        \"min\": 243500.0,\n        \"max\": 69929000.0,\n        \"num_unique_values\": 38,\n        \"samples\": [\n          735500.0,\n          268000.0,\n          5000000.0\n        ],\n        \"semantic_type\": \"\",\n        \"description\": \"\"\n      }\n    },\n    {\n      \"column\": \"Cat Population\",\n      \"properties\": {\n        \"dtype\": \"number\",\n        \"std\": 15115199.722062849,\n        \"min\": 300400.0,\n        \"max\": 74059000.0,\n        \"num_unique_values\": 35,\n        \"samples\": [\n          1002000.0,\n          7575000.0,\n          817000.0\n        ],\n        \"semantic_type\": \"\",\n        \"description\": \"\"\n      }\n    },\n    {\n      \"column\": \"Bird Population\",\n      \"properties\": {\n        \"dtype\": \"number\",\n        \"std\": 33557446.09034323,\n        \"min\": 10000.0,\n        \"max\": 191001000.0,\n        \"num_unique_values\": 32,\n        \"samples\": [\n          40500.0,\n          311000.0,\n          195000.0\n        ],\n        \"semantic_type\": \"\",\n        \"description\": \"\"\n      }\n    },\n    {\n      \"column\": \"Aquaria Population\",\n      \"properties\": {\n        \"dtype\": \"number\",\n        \"std\": 1643338.6898421212,\n        \"min\": 11500.0,\n        \"max\": 8200000.0,\n        \"num_unique_values\": 27,\n        \"samples\": [\n          447000.0,\n          90000.0,\n          152000.0\n        ],\n        \"semantic_type\": \"\",\n        \"description\": \"\"\n      }\n    },\n    {\n      \"column\": \"Small Mammal Population\",\n      \"properties\": {\n        \"dtype\": \"number\",\n        \"std\": 1563004.9854627086,\n        \"min\": 27000.0,\n        \"max\": 6633000.0,\n        \"num_unique_values\": 29,\n        \"samples\": [\n          33000.0,\n          508000.0,\n          498000.0\n        ],\n        \"semantic_type\": \"\",\n        \"description\": \"\"\n      }\n    },\n    {\n      \"column\": \"Terraria Population\",\n      \"properties\": {\n        \"dtype\": \"number\",\n        \"std\": 664167.5195653458,\n        \"min\": 1500.0,\n        \"max\": 2100000.0,\n        \"num_unique_values\": 24,\n        \"samples\": [\n          32000.0,\n          115000.0,\n          1081000.0\n        ],\n        \"semantic_type\": \"\",\n        \"description\": \"\"\n      }\n    }\n  ]\n}"
            }
          },
          "metadata": {},
          "execution_count": 11
        }
      ]
    },
    {
      "cell_type": "code",
      "source": [],
      "metadata": {
        "id": "n2XUMFkbEdLN"
      },
      "execution_count": null,
      "outputs": []
    }
  ]
}